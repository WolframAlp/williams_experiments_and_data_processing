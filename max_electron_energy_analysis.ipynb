{
 "cells": [
  {
   "cell_type": "markdown",
   "id": "c29e43af-9f31-41d5-981f-e61addac0fe3",
   "metadata": {},
   "source": [
    "# Max Electron Energy"
   ]
  },
  {
   "cell_type": "markdown",
   "id": "bf61051a-6807-4b2a-b008-aea79aee9276",
   "metadata": {},
   "source": [
    "The purpose of this notebook is to find the highest energy of the electrons fired directly toward the MCP"
   ]
  },
  {
   "cell_type": "code",
   "execution_count": 1,
   "id": "775f3ec1-efaf-4a32-8baf-c3a44ec92aac",
   "metadata": {},
   "outputs": [],
   "source": [
    "import numpy as np\n",
    "from image_analysis_tools import *\n",
    "from data_analysis_tools import *\n",
    "import os\n",
    "import pandas as pd\n",
    "\n",
    "%matplotlib inline"
   ]
  },
  {
   "cell_type": "markdown",
   "id": "f2f97022-80f4-4f46-a245-dfaf6c835d00",
   "metadata": {
    "jp-MarkdownHeadingCollapsed": true,
    "tags": []
   },
   "source": [
    "## Using currents"
   ]
  },
  {
   "cell_type": "markdown",
   "id": "ec480b6e-36e1-421a-920d-3759440eae0e",
   "metadata": {},
   "source": [
    "Extract all the data and put into a single frame"
   ]
  },
  {
   "cell_type": "code",
   "execution_count": 4,
   "id": "b685faaf-26cd-4827-823c-5ca3e917f02f",
   "metadata": {},
   "outputs": [],
   "source": [
    "cur_dir = \"E:\\\\EmissionEnergy_Data\\\\ThressholdExtraction\\\\currents\\\\07THz_A_0_V_1490_1370_s2_10\\\\\"\n",
    "\n",
    "os.chdir(cur_dir)\n",
    "files = os.listdir()\n",
    "\n",
    "analysis = AnalysisTools(cur_dir)\n",
    "data = pd.DataFrame()\n",
    "for file in files:\n",
    "    data = data.append(analysis.get_data(file,ret=True))"
   ]
  },
  {
   "cell_type": "markdown",
   "id": "4cd47c07-63e3-4a39-b6f7-e204e3ab3047",
   "metadata": {},
   "source": [
    "For each position and each voltage setting the average"
   ]
  },
  {
   "cell_type": "code",
   "execution_count": 5,
   "id": "b1bb91ea-1588-424c-a5d7-e972edf65dd4",
   "metadata": {},
   "outputs": [],
   "source": [
    "data_averaged = pd.DataFrame()\n",
    "for pos in data.position.unique():\n",
    "    for voltage in data.voltage_setting.unique():\n",
    "        current = data.loc[(data.position == pos) & (data.voltage_setting == voltage)].current3.mean()\n",
    "        data_averaged = data_averaged.append(pd.DataFrame([[pos, voltage, current]], columns=[\"position\",\"voltage_setting\",\"current\"]))\n",
    "\n",
    "data_averaged = data_averaged.fillna(0)"
   ]
  },
  {
   "cell_type": "markdown",
   "id": "e208817a-4b61-4b1f-b327-b7dac41585b4",
   "metadata": {},
   "source": [
    "The background is then subtracted"
   ]
  },
  {
   "cell_type": "code",
   "execution_count": 6,
   "id": "b4b6523c-dbdf-4fd6-b070-ec30ef74e16e",
   "metadata": {},
   "outputs": [],
   "source": [
    "bright = data_averaged.loc[data_averaged.position == 0]\n",
    "dark = data_averaged.loc[data_averaged.position == 90]\n",
    "\n",
    "currents = bright[\"current\"] - dark[\"current\"]\n",
    "currents = currents.reset_index()"
   ]
  },
  {
   "cell_type": "code",
   "execution_count": 7,
   "id": "ee4dbc19-9561-45be-8475-b0d23e17bba3",
   "metadata": {},
   "outputs": [
    {
     "data": {
      "text/plain": [
       "[<matplotlib.lines.Line2D at 0x1502b65adc0>]"
      ]
     },
     "execution_count": 7,
     "metadata": {},
     "output_type": "execute_result"
    },
    {
     "data": {
      "image/png": "[encoded data removed]",
      "text/plain": [
       "<Figure size 432x288 with 2 Axes>"
      ]
     },
     "metadata": {
      "needs_background": "light"
     },
     "output_type": "display_data"
    }
   ],
   "source": [
    "import matplotlib.pyplot as plt\n",
    "\n",
    "current_values = currents.current.values\n",
    "voltages = data_averaged.voltage_setting.unique()\n",
    "\n",
    "voltages = -1500 - voltages\n",
    "\n",
    "fig, ax = plt.subplots(2, sharex=True)\n",
    "ax[0].set_title(\"Linear\")\n",
    "ax[0].plot(voltages, current_values*1e6)\n",
    "ax[0].set_ylabel(f\"Current [$\\mu$A]\")\n",
    "\n",
    "ax[1].set_title(\"Log\")\n",
    "ax[1].set_xlabel(\"Extraction Field [kV/m]\")\n",
    "ax[1].set_ylabel(\"Log Current\")\n",
    "\n",
    "filtered_current = current_values[current_values > 0]\n",
    "filtered_voltage = voltages[current_values > 0]\n",
    "\n",
    "ax[1].plot(filtered_voltage, np.log(filtered_current))"
   ]
  },
  {
   "cell_type": "markdown",
   "id": "886dde93-f4b2-4497-9f0f-7a9747c3f7e4",
   "metadata": {},
   "source": [
    "## Using images"
   ]
  },
  {
   "cell_type": "markdown",
   "id": "8c8beab7-d140-4101-ae7a-e7af6c3d0f80",
   "metadata": {},
   "source": [
    "Start by importing and averaging all images with the same name"
   ]
  },
  {
   "cell_type": "code",
   "execution_count": 2,
   "id": "ae6e8031-b3fa-4f8f-891d-ceb23e458cc1",
   "metadata": {},
   "outputs": [
    {
     "name": "stdout",
     "output_type": "stream",
     "text": [
      "Loaded 121 other images\n"
     ]
    }
   ],
   "source": [
    "cur_dir = \"E:\\\\EmissionEnergy_Data\\\\ThressholdExtraction\\\\images\\\\07THz_A_0_V_1490_1370_s2_10\\\\0\\\\\"\n",
    "\n",
    "images = ImageSeries(others=cur_dir)"
   ]
  },
  {
   "cell_type": "code",
   "execution_count": 3,
   "id": "820eab0b-0e0a-4f29-9218-3bdcefdce2c4",
   "metadata": {},
   "outputs": [
    {
     "name": "stdout",
     "output_type": "stream",
     "text": [
      "Averaged images saved to folder:  E:\\EmissionEnergy_Data\\ThressholdExtraction\\images\\07THz_A_0_V_1490_1370_s2_10\\reduced\\\n"
     ]
    }
   ],
   "source": [
    "reduced_set = \"E:\\\\EmissionEnergy_Data\\\\ThressholdExtraction\\\\images\\\\07THz_A_0_V_1490_1370_s2_10\\\\reduced\\\\\"\n",
    "\n",
    "images.save_reduced_set(path=reduced_set)"
   ]
  },
  {
   "cell_type": "code",
   "execution_count": null,
   "id": "f43ab93c-497e-4dc9-9656-68551073e19f",
   "metadata": {},
   "outputs": [],
   "source": []
  }
 ],
 "metadata": {
  "kernelspec": {
   "display_name": "Python 3",
   "language": "python",
   "name": "python3"
  },
  "language_info": {
   "codemirror_mode": {
    "name": "ipython",
    "version": 3
   },
   "file_extension": ".py",
   "mimetype": "text/x-python",
   "name": "python",
   "nbconvert_exporter": "python",
   "pygments_lexer": "ipython3",
   "version": "3.9.1"
  }
 },
 "nbformat": 4,
 "nbformat_minor": 5
}
