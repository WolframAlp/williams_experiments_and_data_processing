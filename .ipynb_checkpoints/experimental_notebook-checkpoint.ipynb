{
 "cells": [
  {
   "cell_type": "markdown",
   "id": "a046bed4-9b9a-49eb-bb7d-6f4724553904",
   "metadata": {},
   "source": [
    "# Experimental Notebook"
   ]
  },
  {
   "cell_type": "markdown",
   "id": "c9cd4b2b-8910-446b-9dfb-cb7944297d41",
   "metadata": {
    "jp-MarkdownHeadingCollapsed": true,
    "tags": []
   },
   "source": [
    "## Initialize Packages"
   ]
  },
  {
   "cell_type": "markdown",
   "id": "cbbefce0-bc7e-446f-beea-af7550e10f37",
   "metadata": {},
   "source": [
    "This notebook is meant as an easy way of setting up experiments using the vacuum chamber and a combination of tools. \n",
    "\n",
    "In order to do this, we import the experiments package, which is build on the machines package, specifically build for running the machines connected to the vacuum chamber.\n",
    "\n",
    "Note: Lucam requires a dll to be downloaded in the form of a driver. https://www.lumenera.com/infinity-analyze-and-capture-for-windows.html"
   ]
  },
  {
   "cell_type": "code",
   "execution_count": null,
   "id": "78bc01f0-2863-4d64-88c3-fb9037da13b0",
   "metadata": {},
   "outputs": [],
   "source": [
    "# Installs a few not entirely common packages needed to run the machines and experiments\n",
    "!pip install lucam\n",
    "!pip install pyvisa\n",
    "!pip install plotly\n",
    "!pip install pandas"
   ]
  },
  {
   "cell_type": "code",
   "execution_count": null,
   "id": "c6448165-377d-40ac-b875-da54a0346356",
   "metadata": {},
   "outputs": [],
   "source": [
    "# Import the experiments package\n",
    "%matplotlib notebook\n",
    "from experiments import *\n",
    "import numpy as np"
   ]
  },
  {
   "cell_type": "markdown",
   "id": "3e4eccb7-2383-457b-b220-d5581a91ac2e",
   "metadata": {},
   "source": [
    "Five different kinds of experiments are available.\n",
    "\n",
    "1. Amperemeter ( Varying wire grid position )\n",
    "2. Power supply - Constant ( Varying wire grid position )\n",
    "3. Power supply - Variable ( Varying wire grid and voltage on one channel )\n",
    "4. Threshold extractino voltage ( Varying wire grid and voltage on one channel, slightly different from 3. )\n",
    "5. Current Monitor ( Live graph of current at phosphor screen for terahertz optimization )\n",
    "\n",
    "Numbers two and three an be run with the lucam camera. Note: Camera can cause measurement to crash due to momentary laps in connection."
   ]
  },
  {
   "cell_type": "markdown",
   "id": "e2043556-4f0f-4d76-b654-0cab3d174562",
   "metadata": {},
   "source": [
    "We will now go through setting up each type of experiment, starting from the top.\n",
    "\n"
   ]
  },
  {
   "cell_type": "markdown",
   "id": "7173bfc1-9cb7-42d9-b64d-62679bb73cac",
   "metadata": {
    "jp-MarkdownHeadingCollapsed": true,
    "tags": []
   },
   "source": [
    "## 1. Amperemeter"
   ]
  },
  {
   "cell_type": "markdown",
   "id": "02a337cb-87bf-4a70-8902-1947de9f86c5",
   "metadata": {},
   "source": [
    "Common for all three experiments is that they need wire grid positions. The electrical field scales by the wire grid angle as: $E/E_0 = cos^2(\\theta)$\n",
    "\n",
    "Often you want to select the angle from the electric field using the following equation, where theta is isolated: $\\theta=arccos(\\sqrt{E/E_0})$\n",
    "\n",
    "Now selecting 6 positions ranging from 100% electric field to 40%."
   ]
  },
  {
   "cell_type": "code",
   "execution_count": null,
   "id": "040f8b82-f8c5-426b-a8bd-0dee3c7b8082",
   "metadata": {},
   "outputs": [],
   "source": [
    "from experiments import *\n",
    "import numpy as np\n",
    "positions =  [90] + [np.arccos(np.sqrt(E)) * 180 / np.pi for E in np.linspace(0.40,1,61)]\n",
    "# positions = [0, 90]"
   ]
  },
  {
   "cell_type": "markdown",
   "id": "4e0f1d4c-ae46-4df7-aaab-5101a3aa885d",
   "metadata": {
    "tags": []
   },
   "source": [
    "### Initializing the experiment"
   ]
  },
  {
   "cell_type": "markdown",
   "id": "cd7a1199-b2d0-493b-884e-3ced6c6d67e3",
   "metadata": {},
   "source": [
    "Before setting up the parameters of the experiment, we must connect to the machines needed. This is done by initializing an instance of the experiment. The name of the amperemeter experiment class is \"IasE_current\". Because logic."
   ]
  },
  {
   "cell_type": "code",
   "execution_count": null,
   "id": "782b4b97-a352-4884-b302-dd19cda3f00d",
   "metadata": {},
   "outputs": [],
   "source": [
    "cur = IasE_current()"
   ]
  },
  {
   "cell_type": "markdown",
   "id": "4d5645a9-1f7d-49f3-ab34-8d687e78bb6d",
   "metadata": {},
   "source": [
    "If a connection error occurs the experiment will not run later, when starting it.\n",
    "\n",
    "The stage connection is per default to serial number '27255354'. If another stage is used please import c_char_p from ctypes and give the IasE_currrent input stages=c_char_p(b'27255354'). It is also possible to connect multiple stages if input is a list of c_char_p structures."
   ]
  },
  {
   "cell_type": "markdown",
   "id": "0f897f3e-291f-4cf2-a43c-beb2c6c1e935",
   "metadata": {
    "tags": []
   },
   "source": [
    "### Setting up parameters"
   ]
  },
  {
   "cell_type": "markdown",
   "id": "ef987d2f-83aa-406d-9dad-1d264cf7714f",
   "metadata": {},
   "source": [
    "The amperemeter class has a set of default values for all but the stage positions. However, it is recommended to explicitly set all parameters every run to make sure you know how the experiment is run. Reproducibility and such.\n",
    "\n",
    "Mandatory:\n",
    "- stage_positions : List of positions in degrees\n",
    "\n",
    "Others:\n",
    "- amp_int_time : Time of current integration after asking for a measurement (default : 1/10 s)\n",
    "- amp_current_level : The order of magnitude of the amperemeter sensitivity (default : the setting on the amp meter)\n",
    "- time_in_position : Number of seconds system will remain in each wire grid position (defualt : 10s)\n",
    "- directory : A path to the folder in which the experiment folder will be created and data be placed (default : A path which only exist on my pc :-))\n",
    "- num_measurements : An alternative to time_in_position, overwriting the time and waiting till the correct number of datapoints exist (default : 0)"
   ]
  },
  {
   "cell_type": "code",
   "execution_count": null,
   "id": "e9a8c817-f721-4a0a-a603-c293aaffc933",
   "metadata": {},
   "outputs": [],
   "source": [
    "amp_int_time = 0.5 #unit is seconds. exact time diff. slighlty different than 1 second between measurements.1 s = 1000 pulses\n",
    "# amp_current_level = 1e-15\n",
    "# time_in_position = 60\n",
    "directory = \"D:\\\\EmissionEnergy_Data\\\\Ampmeter\"\n",
    "\n",
    "num_measurements = 60 #records x amount of measurements with time difference almost equal to int_time.\n",
    "\n",
    "cur.set_parameters(\n",
    "                    # amp_current_level=amp_current_level,\n",
    "                   stage_positions=positions,\n",
    "                   amp_int_time=amp_int_time,\n",
    "                   # time_in_position=time_in_position,\n",
    "                   directory=directory,\n",
    "                   num_measurements=num_measurements)"
   ]
  },
  {
   "cell_type": "code",
   "execution_count": null,
   "id": "88b5613e-459b-473a-bb16-47d3e07e1e3d",
   "metadata": {},
   "outputs": [],
   "source": [
    "cur.amp.get_current()"
   ]
  },
  {
   "cell_type": "code",
   "execution_count": null,
   "id": "f5099c5e-54fe-435e-86e0-f9b5c9e1a91a",
   "metadata": {},
   "outputs": [],
   "source": [
    "cur.stages.move_device(0)"
   ]
  },
  {
   "cell_type": "markdown",
   "id": "e04ffecd-0ef0-4408-a5a5-6ad865dc2465",
   "metadata": {
    "tags": []
   },
   "source": [
    "### Running Experiment"
   ]
  },
  {
   "cell_type": "markdown",
   "id": "1627fa20-7d75-4378-b217-8ae0506e33f0",
   "metadata": {},
   "source": [
    "Running the experiment is done by cur.run_experiment. This function takes one mandatory input, the experiment name. The name of the experiment will be the name of the folder in which all the data is placed.\n",
    "\n",
    "The currents measured are in general in the same order of magnitude as the current change in the system after chaning wires or moving the setup slightly. It is therefore important, that before every measurement, a background measurement is done.\n",
    "\n",
    "The background can be recorded in one of two ways.\n",
    "1. Using \"back_time\" keyword when running\n",
    "2. Doing a measurement of a single position\n",
    "\n",
    "Before going to the next section, make sure the amp meter is measureing by pressing the On/Off button and making sure it lights up."
   ]
  },
  {
   "cell_type": "markdown",
   "id": "d501152e-b512-4f45-9b25-c971aae33e90",
   "metadata": {
    "jp-MarkdownHeadingCollapsed": true,
    "tags": []
   },
   "source": [
    "#### Using back_time\n",
    "\n",
    "Backtime is used by setting back_time=? after the name of the experiment.\n",
    "The measurement will use the same settings as the rest of the run, but do a measurement at wire grid angle 90 degrees.\n",
    "The data from the measurement is placed with the rest of the run and marked as background.\n",
    "\n",
    "back_time is per default 120s.\n"
   ]
  },
  {
   "cell_type": "code",
   "execution_count": null,
   "id": "d085cc36-28e6-4a3c-97fe-1b2e0516d379",
   "metadata": {},
   "outputs": [],
   "source": [
    "cur.run_experiment(\"experiment_name\", back_time=10)"
   ]
  },
  {
   "cell_type": "markdown",
   "id": "5cddac07-daf9-4495-9d95-902076440312",
   "metadata": {
    "tags": []
   },
   "source": [
    "#### Using seperate experiment\n",
    "\n",
    "Alternatively, as the wire grid in practive does not dampen the field 100%, one can block the beam and save a seperate measurement.\n",
    "\n",
    "If this option is used, remmember to set the back_time to 0."
   ]
  },
  {
   "cell_type": "code",
   "execution_count": null,
   "id": "f7650242-77d2-45cc-ba83-c9ed75806abd",
   "metadata": {},
   "outputs": [],
   "source": [
    "cur.set_parameters(stage_positions=[0])\n",
    "cur.run_experiment(\"2021_014_05_Ampmeter_dark\", back_time=0)"
   ]
  },
  {
   "cell_type": "code",
   "execution_count": null,
   "id": "790f3645-537c-474a-a822-5ef0fee647c0",
   "metadata": {},
   "outputs": [],
   "source": [
    "cur.set_parameters(stage_positions=positions)\n",
    "cur.run_experiment(\"09THz_100_40_s1\", back_time=0)"
   ]
  },
  {
   "cell_type": "code",
   "execution_count": null,
   "id": "399582fa-d8ae-45de-a613-528b872a1325",
   "metadata": {},
   "outputs": [],
   "source": [
    "import pandas as pd\n",
    "import plotly.express as ex\n",
    "\n",
    "data = pd.read_csv(\"D:\\\\EmissionEnergy_Data\\\\Ampmeter\\\\09THz_100_40_s1_current_0\\\\current.csv\")\n",
    "\n",
    "averaged = pd.DataFrame()\n",
    "averaged[\"angle\"] = data.position.unique()\n",
    "averaged[\"E\"] = (np.cos(data.position.unique() * np.pi/180))**2\n",
    "avg = []\n",
    "for pos in data.position.unique():\n",
    "    avg.append(data.current.loc[data.position == pos].mean())\n",
    "averaged[\"current\"] = avg\n",
    "\n",
    "ex.scatter(averaged, x=\"angle\", y=\"current\")\n",
    "ex.scatter(averaged, x=\"E\", y=\"current\")"
   ]
  },
  {
   "cell_type": "markdown",
   "id": "413f0a7c-89f2-43a7-b1b8-cf5fdb133091",
   "metadata": {
    "jp-MarkdownHeadingCollapsed": true,
    "tags": []
   },
   "source": [
    "## 2. Power supply - Constant"
   ]
  },
  {
   "cell_type": "markdown",
   "id": "1d81ac5d-495f-4423-b84c-02d6030d1db7",
   "metadata": {},
   "source": [
    "The setup of the other experients is much like the amperemeter measurement, but with slightly different settings.\n",
    "\n",
    "Like before, we select a range of positions for the wire grid."
   ]
  },
  {
   "cell_type": "code",
   "execution_count": null,
   "id": "46edebae-b362-4f8a-b378-c6b8d40db90b",
   "metadata": {},
   "outputs": [],
   "source": [
    "from experiments import *\n",
    "import numpy as np\n",
    "positions = [90] + [np.arccos(np.sqrt(E)) * 180 / np.pi for E in np.linspace(0.40,1,61)]"
   ]
  },
  {
   "cell_type": "markdown",
   "id": "451121bd-de05-4d69-aeae-a44cf3a03ac2",
   "metadata": {
    "jp-MarkdownHeadingCollapsed": true,
    "tags": []
   },
   "source": [
    "### Initializing the experiment"
   ]
  },
  {
   "cell_type": "markdown",
   "id": "1937f773-a3fe-4aca-a0a4-f45f2f263fe5",
   "metadata": {},
   "source": [
    "There are three main differences between using the power supply and the amperemeter.\n",
    "\n",
    "1. Power supply can be used in tandem with the lucam camera\n",
    "2. Power supply requires voltage settings\n",
    "3. Power supply has a fixed integration time, meaning the number of measurements per second is fixed.\n",
    "\n",
    "Like with the amp meter, the power supply experiment should be initialized. It has the same default stage which can be changed the same way as for the amp meter.\n",
    "\n",
    "Furthermore, the power supply experiment has the possibility of using the camera. This is enabled by setting cam=True. \n",
    "\n",
    "For safety it has \"switch_off_after_meas\" set to True per default. This shuts the voltage off on the power supply after running a measurement.\n",
    "\n",
    "Sometimes the ip of the power supply changes. Mostly due to someone moving the ethernet connection to another port. Compensate for this by setting the new ip from the screen in the volt setting.\n",
    "\n",
    "Note: You need to be connected to the local network (same as power supply) for the connection to be made."
   ]
  },
  {
   "cell_type": "code",
   "execution_count": null,
   "id": "0ae719e0-8751-469c-a279-220749f1dfa9",
   "metadata": {},
   "outputs": [],
   "source": [
    "phos = PhosphorCurrent(cam=True, \n",
    "                       volt='ws://192.168.1.2:8080',\n",
    "                       switch_off_after_meas=True,\n",
    "                       cam_dir=\"D:\\\\EmissionEnergy_Data\\\\PhosCur\\\\Images\")"
   ]
  },
  {
   "cell_type": "code",
   "execution_count": null,
   "id": "04232f1c-a61d-4b1c-a5ae-d1261454cebe",
   "metadata": {},
   "outputs": [],
   "source": [
    "phos.stages.move_device(0)"
   ]
  },
  {
   "cell_type": "markdown",
   "id": "55e72e88-1544-429d-9c55-5f958d061ac8",
   "metadata": {
    "tags": []
   },
   "source": [
    "### Setting up parameters"
   ]
  },
  {
   "cell_type": "markdown",
   "id": "078a1e62-127e-4de1-b414-d7fddcd26eb7",
   "metadata": {},
   "source": [
    "The PhosphorCurrent class has a set of default values for all parmeters. However, it is recommended to explicitly set all parameters every run to make sure you know how the experiment is run.\n",
    "\n",
    "\n",
    "Mandatory:\n",
    "- volt_per_chan : A list of voltages the same length as used_channels, e.g. [-2000, -1500, 2000]\n",
    "\n",
    "Others:\n",
    "- stage_positions : List of positions in degrees (default : [0])\n",
    "- time_in_position : Number of seconds system will remain in each wire grid position (defualt : 10s)\n",
    "- directory : A path to the folder in which the experiment folder will be created and data be placed (default : A path which only exist on my pc :-))\n",
    "- cur_meas_freq : Number of measurements per second (default : 5)\n",
    "- used_channels : A list of the channels used (default : [1,2,3])\n",
    "- image_freq : The number of images per second when cam enabled (default : 1 s^-1)\n",
    "- cam_dir : Directory for saving image files (default: Williams folder on the E-drive)\n",
    "- switch_off_after_meas : Can be set here or in the initializer, this overwrites the initializer (default : Initialized value)"
   ]
  },
  {
   "cell_type": "code",
   "execution_count": null,
   "id": "3e86e1ea-be30-4b99-8e7b-4e0058b30664",
   "metadata": {},
   "outputs": [],
   "source": [
    "time_in_position = 40\n",
    "directory = \"D:\\\\EmissionEnergy_Data\\\\PhosCur\\\\Currents\"\n",
    "cur_meas_freq = 5\n",
    "used_channels = [0,1,2,3]\n",
    "volt_per_chan = [-2000, -2000, -1500, 2000]\n",
    "image_freq = 1\n",
    "switch_off_after_meas = True\n",
    "cam_dir = \"D:\\\\EmissionEnergy_Data\\\\PhosCur\\\\Images\"\n",
    "# positions = [np.arccos(np.sqrt(E)) * 180 / np.pi for E in np.linspace(0.0,1,5)]\n",
    "stage_positions = positions\n",
    "\n",
    "phos.set_parameters(time_in_position=time_in_position,\n",
    "                    directory=directory,\n",
    "                    stage_positions=stage_positions,\n",
    "                    cur_meas_freq=cur_meas_freq,\n",
    "                    used_channels=used_channels,\n",
    "                    volt_per_chan=volt_per_chan,\n",
    "                    image_freq=image_freq,\n",
    "                    switch_off_after_meas=switch_off_after_meas,\n",
    "                    cam_dir=cam_dir)"
   ]
  },
  {
   "cell_type": "markdown",
   "id": "04cb1559-dbf2-4bf2-8259-a36193507cb0",
   "metadata": {
    "tags": []
   },
   "source": [
    "### Running Experiment"
   ]
  },
  {
   "cell_type": "markdown",
   "id": "8d771da4-1ea7-4117-b988-4992ddf4c62a",
   "metadata": {},
   "source": [
    "Running the experiment is done by phos.run_experiment. This function takes one mandatory input, the experiment name. The name of the experiment will be the name of the folder in which all the data is placed.\n",
    "\n",
    "The current when no laser power is applied is almost zero. For the purpose of science, background measurements should be done, but they are not strictly necessary for this device.\n",
    "\n",
    "The background can be recorded in one of two ways.\n",
    "1. Using \"back_time\" keyword when running\n",
    "2. Doing a measurement of a single position\n"
   ]
  },
  {
   "cell_type": "markdown",
   "id": "ef5a1bb1-6562-4faf-bf43-5503c8cdad87",
   "metadata": {
    "jp-MarkdownHeadingCollapsed": true,
    "tags": []
   },
   "source": [
    "#### Using back_time\n",
    "\n",
    "Backtime is used by setting back_time=? after the name of the experiment.\n",
    "The measurement will use the same settings as the rest of the run, but do a measurement at wire grid angle 90 degrees.\n",
    "The data from the measurement is placed with the rest of the run and marked as background.\n",
    "\n",
    "back_time is per default 120s.\n"
   ]
  },
  {
   "cell_type": "code",
   "execution_count": null,
   "id": "0501482f-da2f-4b7c-bb24-35addc148298",
   "metadata": {},
   "outputs": [],
   "source": [
    "phos.run_experiment(\"experiment_name\", back_time=10)"
   ]
  },
  {
   "cell_type": "markdown",
   "id": "1940ec96-ac65-450a-abd2-30542884454b",
   "metadata": {
    "tags": []
   },
   "source": [
    "#### Using seperate experiment\n",
    "\n",
    "Alternatively, as the wire grid in practive does not dampen the field 100%, one can block the beam and save a seperate measurement.\n",
    "\n",
    "If this option is used, remmember to set the back_time to 0."
   ]
  },
  {
   "cell_type": "code",
   "execution_count": null,
   "id": "e22255cb-132b-4c6c-ac46-0b0657c0c097",
   "metadata": {},
   "outputs": [],
   "source": [
    "phos.volt.set_channel_voltage(0,-2000)\n",
    "phos.volt.set_channel_voltage(1,-2000)"
   ]
  },
  {
   "cell_type": "code",
   "execution_count": null,
   "id": "eff31cda-ce4c-4d2f-98a5-bba814b66995",
   "metadata": {},
   "outputs": [],
   "source": [
    "phos.set_parameters(stage_positions=[0])\n",
    "phos.run_experiment(\"2021_14_02_Powersupply_dark\", back_time=0)"
   ]
  },
  {
   "cell_type": "code",
   "execution_count": null,
   "id": "5f7db4e3-ef6f-4e08-bd67-b7e6ab102b3b",
   "metadata": {},
   "outputs": [],
   "source": [
    "phos.set_parameters(stage_positions=positions)\n",
    "phos.run_experiment(\"09THz_2000V_90_40_100_s1\", back_time=0)"
   ]
  },
  {
   "cell_type": "markdown",
   "id": "7a711547-063b-4e43-814c-b606643ed7de",
   "metadata": {
    "jp-MarkdownHeadingCollapsed": true,
    "tags": []
   },
   "source": [
    "## 3. Power supply - Variable"
   ]
  },
  {
   "cell_type": "markdown",
   "id": "bf42af55-1122-490e-a2c8-e20f428727f1",
   "metadata": {},
   "source": [
    "Power supply variable is much like the constant one, but with a few additional settings allowing you to vary the voltage of a channel while changing the grid positions.\n",
    "\n",
    "Like before, we select a range of positions for the wire grid.\n",
    "\n",
    "Additionally, we define a set of voltages we want a channel to go through."
   ]
  },
  {
   "cell_type": "code",
   "execution_count": null,
   "id": "e201d665-2b2f-423d-8a71-dcc3b8c8417d",
   "metadata": {},
   "outputs": [],
   "source": [
    "from experiments import *\n",
    "import numpy as np\n",
    "# positions = [np.arccos(np.sqrt(E)) * 180 / np.pi for E in np.linspace(0.75,1,6)]\n",
    "# positions = [np.arccos(np.sqrt(0.85)) * 180 / np.pi]\n",
    "positions = [0]\n",
    "voltages = np.linspace(-1485,-1525,41)\n",
    "print(voltages)"
   ]
  },
  {
   "cell_type": "markdown",
   "id": "4f3bc278-477c-43c2-a874-89a9812b8aee",
   "metadata": {
    "tags": []
   },
   "source": [
    "### Initializing the experiment"
   ]
  },
  {
   "cell_type": "markdown",
   "id": "5e5a361b-6313-4305-bd45-6d7d470bd4e6",
   "metadata": {},
   "source": [
    "The initialization of this experiment is much like the other power supply experiment with camera settings and ip settings. "
   ]
  },
  {
   "cell_type": "code",
   "execution_count": null,
   "id": "5d7640ef-2ed3-4be1-bc5d-7a21cb02989f",
   "metadata": {},
   "outputs": [],
   "source": [
    "emission = EmissionEnergy(cam=True, \n",
    "                          volt='ws://192.168.1.2:8080',\n",
    "                          switch_off_after_meas=True,\n",
    "                          cam_dir=\"D:\\\\EmissionEnergy_Data\\\\Images\")"
   ]
  },
  {
   "cell_type": "markdown",
   "id": "6d689f60-7524-47b2-af06-a2d06476a6bd",
   "metadata": {
    "tags": []
   },
   "source": [
    "### Setting up parameters"
   ]
  },
  {
   "cell_type": "markdown",
   "id": "7a5f12f3-a0ce-4560-8467-0293ca010413",
   "metadata": {},
   "source": [
    "The EmissionEnergy class has a set of default values for all parmeters. However, it is recommended to explicitly set all parameters every run to make sure you know how the experiment is run.\n",
    "\n",
    "\n",
    "Mandatory:\n",
    "- volt_per_chan : A list of voltages the same length as used_channels, e.g. [-2000, -1500, 2000]\n",
    "\n",
    "Others:\n",
    "- channel_voltages : List of voltages for variable channel (default : [-1500])\n",
    "- stage_positions : List of positions in degrees (default : [0])\n",
    "- time_in_position : Number of seconds system will remain in each wire grid position (defualt : 10s)\n",
    "- directory : A path to the folder in which the experiment folder will be created and data be placed (default : A path which only exist on my pc :-))\n",
    "- cur_meas_freq : Number of measurements per second (default : 5)\n",
    "- used_channels : A list of the channels used (default : [1,2,3])\n",
    "- image_freq : The number of images per second when cam enabled (default : 1 s^-1)\n",
    "- cam_dir : Directory for saving image files (default: Williams folder on the E-drive)\n",
    "- switch_off_after_meas : Can be set here or in the initializer, this overwrites the initializer (default : Initialized value)"
   ]
  },
  {
   "cell_type": "code",
   "execution_count": null,
   "id": "328213eb-e136-4ce4-9a34-e5fe25cdcc91",
   "metadata": {},
   "outputs": [],
   "source": [
    "time_in_position = 20\n",
    "directory = \"D:\\\\EmissionEnergy_Data\\\\EmissionEnergy\"\n",
    "stage_positions = positions\n",
    "cur_meas_freq = 5\n",
    "used_channels = [0,1,2,3]\n",
    "volt_per_chan = [-1500, -1500, -1500, 2000]\n",
    "image_freq = 1\n",
    "switch_off_after_meas = True\n",
    "cam_dir = \"D:\\\\EmissionEnergy_Data\\\\Images\"\n",
    "\n",
    "emission.set_parameters(channel_voltages=voltages,\n",
    "                        time_in_position=time_in_position,\n",
    "                        directory=directory,\n",
    "                        stage_positions=stage_positions,\n",
    "                        cur_meas_freq=cur_meas_freq,\n",
    "                        used_channels=used_channels,\n",
    "                        volt_per_chan=volt_per_chan,\n",
    "                        image_freq=image_freq,\n",
    "                        switch_off_after_meas=switch_off_after_meas,\n",
    "                        cam_dir=cam_dir)"
   ]
  },
  {
   "cell_type": "markdown",
   "id": "3d1b516d-d8d2-4f82-877d-38c25a62547d",
   "metadata": {
    "tags": []
   },
   "source": [
    "### Running Experiment"
   ]
  },
  {
   "cell_type": "markdown",
   "id": "0595dafb-fb6c-47f6-b5d4-7be07e082d84",
   "metadata": {},
   "source": [
    "Running the experiment is done by emission.run_experiment. This function takes one mandatory input, the experiment name. The name of the experiment will be the name of the folder in which all the data is placed.\n",
    "\n",
    "When running an emission energy experiment, you need to set the channel which should be varied, else it uses the first used channel per default, i.e. channel 1 of channels [1,2,3] or channel 3 of [3,0,4].\n",
    "\n",
    "The current when no laser power is applied is almost zero. For the purpose of science, background measurements should be done, but they are not strictly necessary for this device.\n",
    "\n",
    "The background can be recorded in one of two ways.\n",
    "1. Using \"back_time\" keyword when running\n",
    "2. Doing a measurement of a single position\n"
   ]
  },
  {
   "cell_type": "markdown",
   "id": "69320920-f028-4a0c-b744-6d64a507d626",
   "metadata": {
    "jp-MarkdownHeadingCollapsed": true,
    "tags": []
   },
   "source": [
    "#### Using back_time\n",
    "\n",
    "Backtime is used by setting back_time=? after the name of the experiment.\n",
    "The measurement will use the same settings as the rest of the run, but do a measurement at wire grid angle 90 degrees.\n",
    "The data from the measurement is placed with the rest of the run and marked as background.\n",
    "\n",
    "back_time is per default 120s.\n"
   ]
  },
  {
   "cell_type": "code",
   "execution_count": null,
   "id": "c2132d79-d79d-4094-ad31-6a960e1b5ad9",
   "metadata": {},
   "outputs": [],
   "source": [
    "emission.run_experiment(\"experiment_name\", back_time=10, variable_channel=0)"
   ]
  },
  {
   "cell_type": "markdown",
   "id": "cad8ae69-2e90-45a8-a103-7a61fd294fb2",
   "metadata": {
    "tags": []
   },
   "source": [
    "#### Using seperate experiment\n",
    "\n",
    "Alternatively, as the wire grid in practive does not dampen the field 100%, one can block the beam and save a seperate measurement.\n",
    "\n",
    "If this option is used, remmember to set the back_time to 0."
   ]
  },
  {
   "cell_type": "code",
   "execution_count": null,
   "id": "27d7a24f-5448-4ede-a48a-674a053e47b2",
   "metadata": {},
   "outputs": [],
   "source": [
    "emission.set_parameters(stage_positions=[90])\n",
    "emission.run_experiment(\"09THz_testrun_dark_3\", back_time=0, variable_channel=[0,1])"
   ]
  },
  {
   "cell_type": "code",
   "execution_count": null,
   "id": "93280e21-15d1-40a9-9a36-4e19aa91c23f",
   "metadata": {},
   "outputs": [],
   "source": [
    "emission.set_parameters(stage_positions=positions)\n",
    "emission.run_experiment(\"08THz_A_100_s0_U_1485_to_1725_s1\", back_time=0, variable_channel=[0,1])"
   ]
  },
  {
   "cell_type": "code",
   "execution_count": null,
   "id": "ba8b46ba-46b0-44c7-b90f-9794b26a8f67",
   "metadata": {},
   "outputs": [],
   "source": [
    "positions"
   ]
  },
  {
   "cell_type": "code",
   "execution_count": null,
   "id": "15664044-e3cd-455a-aa6d-df292cca10fc",
   "metadata": {},
   "outputs": [],
   "source": [
    "cam.connected"
   ]
  },
  {
   "cell_type": "code",
   "execution_count": null,
   "id": "eaab131b-d8ff-4261-a854-07a991656362",
   "metadata": {},
   "outputs": [],
   "source": [
    "import machines\n",
    "cam = machines.Camera()"
   ]
  },
  {
   "cell_type": "code",
   "execution_count": null,
   "id": "fdd86ec0-9ab5-4301-8aeb-9b52657bf2ea",
   "metadata": {},
   "outputs": [],
   "source": [
    "from PIL import Image\n",
    "emission.cam = emission.get_camera()\n",
    "Image.fromarray(emission.cam.TakeSnapshot())"
   ]
  },
  {
   "cell_type": "code",
   "execution_count": null,
   "id": "70bd3bc5-a98e-4e93-a0b4-7f76b1552721",
   "metadata": {},
   "outputs": [],
   "source": [
    "from PIL import Image\n",
    "\n",
    "emission.cam.snapshot.exposure = 100\n",
    "\n",
    "emission.stages.move_device(90)\n",
    "# emission.volt.set_channel_voltage(0,-2000)\n",
    "# emission.volt.set_channel_voltage(1,-2000)\n",
    "\n",
    "shot1 = emission.cam.TakeSnapshot()/10\n",
    "for i in range(9):\n",
    "    try:\n",
    "        shot1 += emission.cam.TakeSnapshot()/10\n",
    "    except Exception as e:\n",
    "        error = e\n",
    "print(shot1)\n",
    "        \n",
    "# emission.volt.set_channel_voltage(0,-1000)\n",
    "# emission.volt.set_channel_voltage(1,-1000)\n",
    "\n",
    "# time.sleep(10)\n",
    "shot2 = emission.cam.TakeSnapshot() / 10\n",
    "for i in range(9):\n",
    "    try:\n",
    "        shot2 += emission.cam.TakeSnapshot()/10\n",
    "    except Exception as e:\n",
    "        error = e\n",
    "print(shot2)"
   ]
  },
  {
   "cell_type": "code",
   "execution_count": null,
   "id": "7524991c-e4e2-4cde-845b-cd776a811e75",
   "metadata": {},
   "outputs": [],
   "source": [
    "emission.cam = emission.get_camera()\n",
    "emission.cam.snapshot.exposure = 100\n",
    "shot2 = emission.cam.TakeSnapshot()"
   ]
  },
  {
   "cell_type": "code",
   "execution_count": null,
   "id": "360bb170-d8f5-4dca-bf3d-c0f6c9df4cd7",
   "metadata": {},
   "outputs": [],
   "source": []
  },
  {
   "cell_type": "code",
   "execution_count": null,
   "id": "e08601b5-e244-45f7-bba1-5d0a0d117413",
   "metadata": {},
   "outputs": [],
   "source": [
    "plt.imshow(shot1 - shot2)"
   ]
  },
  {
   "cell_type": "code",
   "execution_count": null,
   "id": "3823c6dc-9965-41ee-bc79-e34b0dfef1ac",
   "metadata": {},
   "outputs": [],
   "source": [
    "%matplotlib notebook\n",
    "%matplotlib inline\n",
    "%pylab inline\n",
    "import matplotlib\n",
    "matplotlib.use('TkAgg')\n",
    "from experiments import *\n",
    "cm = CurrentMonitor(volt='ws://192.168.1.2:8080')"
   ]
  },
  {
   "cell_type": "code",
   "execution_count": null,
   "id": "c56b5a4b-7469-4394-9a8e-66fe1ed79da8",
   "metadata": {},
   "outputs": [],
   "source": [
    "cm.start()"
   ]
  },
  {
   "cell_type": "code",
   "execution_count": null,
   "id": "2fbaa77a-83bc-4f8e-a4ca-546276b3845e",
   "metadata": {},
   "outputs": [],
   "source": [
    "cm.current"
   ]
  },
  {
   "cell_type": "code",
   "execution_count": null,
   "id": "87f8e0d2-d315-408b-b284-41da8d843044",
   "metadata": {},
   "outputs": [],
   "source": []
  },
  {
   "cell_type": "code",
   "execution_count": null,
   "id": "3a924a05-30a4-425e-9c63-1fb7a854308d",
   "metadata": {},
   "outputs": [],
   "source": [
    "from lucam import API, Lucam"
   ]
  },
  {
   "cell_type": "code",
   "execution_count": null,
   "id": "2332bbf7-0482-4f2d-98dd-e1bb33ffea3b",
   "metadata": {},
   "outputs": [],
   "source": [
    "snapshot = API.LUCAM_SNAPSHOT()\n",
    "camera = Lucam()"
   ]
  },
  {
   "cell_type": "code",
   "execution_count": null,
   "id": "bca5352d-2b59-4f4f-bab5-1873c43d5cda",
   "metadata": {},
   "outputs": [],
   "source": [
    "snapshot.format = camera.GetFormat()[0]\n",
    "snapshot.exposure = 500\n",
    "snapshot.gain = 1\n",
    "snapshot.timeout = 1000.0\n",
    "snapshot.gainRed = 1.0\n",
    "snapshot.gainBlue = 1.0\n",
    "snapshot.gainGrn1 = 1.0\n",
    "snapshot.gainGrn2 = 1.0\n",
    "snapshot.useStrobe = False\n",
    "snapshot.strobeDelay = 0.0\n",
    "snapshot.useHwTrigger = 0\n",
    "snapshot.shutterType = 0\n",
    "snapshot.exposureDelay = 0.0\n",
    "snapshot.bufferlastframe = 0\n"
   ]
  },
  {
   "cell_type": "code",
   "execution_count": null,
   "id": "e8f1998b-be50-46c2-bb0d-04670497d384",
   "metadata": {},
   "outputs": [],
   "source": [
    "snapshot"
   ]
  },
  {
   "cell_type": "code",
   "execution_count": null,
   "id": "15c3f4d5-f28e-4638-b563-7717158d435a",
   "metadata": {},
   "outputs": [],
   "source": [
    "camera.TakeSnapshot()"
   ]
  },
  {
   "cell_type": "code",
   "execution_count": null,
   "id": "489349e0-3f7e-4c3b-b972-181768433c20",
   "metadata": {},
   "outputs": [],
   "source": [
    "error == lucam.lucam.LucamError(emission.cam.camera)"
   ]
  },
  {
   "cell_type": "code",
   "execution_count": null,
   "id": "898ef2c4-1bb8-432d-a0a5-6b095b96a43c",
   "metadata": {},
   "outputs": [],
   "source": [
    "import lucam"
   ]
  },
  {
   "cell_type": "code",
   "execution_count": null,
   "id": "6026bc65-3366-4620-8fe9-363dfd259b67",
   "metadata": {},
   "outputs": [],
   "source": [
    "from lucam import Lucam"
   ]
  },
  {
   "cell_type": "code",
   "execution_count": null,
   "id": "2885ff43-20ac-4447-abf2-a7840cbb3293",
   "metadata": {},
   "outputs": [],
   "source": [
    "lucam.lucam.LucamError"
   ]
  },
  {
   "cell_type": "code",
   "execution_count": null,
   "id": "c4d36947-42ae-4bab-b72b-40d432b7b614",
   "metadata": {},
   "outputs": [],
   "source": [
    "lucam.lucam.LucamError(6)"
   ]
  },
  {
   "cell_type": "code",
   "execution_count": null,
   "id": "ed582272-ab9d-4ed6-8f2e-fa7e4340982e",
   "metadata": {},
   "outputs": [],
   "source": [
    "emission.stages.move_device(40)"
   ]
  },
  {
   "cell_type": "code",
   "execution_count": null,
   "id": "d4840698-a373-447d-9320-01e153d0a6bb",
   "metadata": {},
   "outputs": [],
   "source": [
    "np.cos(40*np.pi/180)**2"
   ]
  },
  {
   "cell_type": "code",
   "execution_count": null,
   "id": "73588f89-e935-492b-b722-c860c0782284",
   "metadata": {},
   "outputs": [],
   "source": [
    "!pip show lucam"
   ]
  },
  {
   "cell_type": "code",
   "execution_count": null,
   "id": "ca580cf5-a04b-4843-a8e9-98832ba7019a",
   "metadata": {},
   "outputs": [],
   "source": [
    "import pandas as pd\n",
    "exposure_frame = pd.DataFrame(columns=[\"angle\",\"exposure\"])\n",
    "exposure_frame = exposure_frame.append(pd.DataFrame([[10,40]],columns=[\"angle\",\"exposure\"]), ignore_index=True)\n",
    "exposure_frame.to_csv(\"D:\\\\test_file.csv\", index=False)\n",
    "print(exposure_frame)"
   ]
  },
  {
   "cell_type": "code",
   "execution_count": null,
   "id": "aa5a5e1a-44ef-4f33-95b4-5bb6e0c9ad19",
   "metadata": {},
   "outputs": [],
   "source": [
    "emission.camera.snapshot.exposure"
   ]
  },
  {
   "cell_type": "code",
   "execution_count": null,
   "id": "68f636c5-a711-4c18-b416-678c32bde13e",
   "metadata": {},
   "outputs": [],
   "source": [
    "emission.volt.set_channel_voltage(0,-2000)\n",
    "emission.volt.set_channel_voltage(1,-2000)"
   ]
  },
  {
   "cell_type": "code",
   "execution_count": null,
   "id": "0d9b7b70-b528-4743-945d-629280b1a83d",
   "metadata": {},
   "outputs": [],
   "source": [
    "emission.cam.snapshot.exposure = 100\n",
    "shot = emission.cam.TakeSnapshot()\n",
    "from PIL import Image\n",
    "print(np.max(shot))\n",
    "image = Image.fromarray(shot)\n",
    "image"
   ]
  },
  {
   "cell_type": "code",
   "execution_count": null,
   "id": "f0ac64a7-cd69-4b07-aaf7-d86a422225c3",
   "metadata": {},
   "outputs": [],
   "source": [
    "emission.stages.move_device(0)"
   ]
  },
  {
   "cell_type": "code",
   "execution_count": null,
   "id": "f9013a67-73c3-475d-aa61-edad33f8269a",
   "metadata": {},
   "outputs": [],
   "source": [
    "image"
   ]
  },
  {
   "cell_type": "code",
   "execution_count": null,
   "id": "04364593-7aa7-4314-b9f0-335511d03df1",
   "metadata": {},
   "outputs": [],
   "source": [
    "image.save(\"D:\\\\EmissionEnergy_Data\\\\ruler.png\")"
   ]
  },
  {
   "cell_type": "markdown",
   "id": "4f2e22e4-ca92-407d-918a-8a2d70d02ec7",
   "metadata": {
    "jp-MarkdownHeadingCollapsed": true,
    "tags": []
   },
   "source": [
    "## 4. Finding threshold for extraction voltage"
   ]
  },
  {
   "cell_type": "markdown",
   "id": "2b54a423-66e2-4396-9a64-cc109fde1695",
   "metadata": {},
   "source": [
    "The purpose of this experiement is to be able, visually and nuerically, to identify the highest negative extraction voltage, with which electrons reach the MCP."
   ]
  },
  {
   "cell_type": "markdown",
   "id": "197e4ad2-0a27-4b5d-b0b9-6c69303fb0c6",
   "metadata": {},
   "source": [
    "### Imports"
   ]
  },
  {
   "cell_type": "code",
   "execution_count": null,
   "id": "9fe31a92-b532-4f67-b5fb-d807cca5f97d",
   "metadata": {},
   "outputs": [],
   "source": [
    "# Import the experiments package\n",
    "%matplotlib notebook\n",
    "from experiments import *\n",
    "import numpy as np"
   ]
  },
  {
   "cell_type": "markdown",
   "id": "59575e55-2047-4a0d-b245-1688acaac184",
   "metadata": {},
   "source": [
    "### Connections"
   ]
  },
  {
   "cell_type": "code",
   "execution_count": null,
   "id": "480e088c-3694-4d3a-9a1a-27bcb8350426",
   "metadata": {},
   "outputs": [],
   "source": [
    "threshold = ExtractionThreshold(cam=True, \n",
    "                          volt='ws://192.168.1.2:8080',\n",
    "                          switch_off_after_meas=True,\n",
    "                          cam_dir=\"D:\\\\EmissionEnergy_Data\\\\ThressholdExtraction\")"
   ]
  },
  {
   "cell_type": "markdown",
   "id": "bf2da96e-5e5c-42db-8b99-4de5320ff878",
   "metadata": {},
   "source": [
    "### Settings"
   ]
  },
  {
   "cell_type": "markdown",
   "id": "18fb57d9-ccdb-42f9-9705-2ec1e24833ab",
   "metadata": {},
   "source": [
    "Settings are set the same way as for emission energy."
   ]
  },
  {
   "cell_type": "code",
   "execution_count": null,
   "id": "cf1fdfe3-f1cf-47da-90ec-d33e54fa838c",
   "metadata": {},
   "outputs": [],
   "source": [
    "time_in_position = 10\n",
    "directory = \"D:\\\\EmissionEnergy_Data\\\\ThressholdExtraction\\\\currents\"\n",
    "cur_meas_freq = 5\n",
    "used_channels = [0,1,2,3]\n",
    "volt_per_chan = [-1500, -1500, -1500, 2000]\n",
    "image_freq = 1\n",
    "switch_off_after_meas = True\n",
    "cam_dir = \"D:\\\\EmissionEnergy_Data\\\\ThressholdExtraction\\\\images\"\n",
    "\n",
    "stage_positions = [0]\n",
    "voltages = [-1490 + 2*i for i in range(61)]\n",
    "# voltages = [-1428 + 2*i for i in range(20)]\n",
    "# voltages = [-1476]\n",
    "\n",
    "threshold.set_parameters(channel_voltages=voltages,\n",
    "                        time_in_position=time_in_position,\n",
    "                        directory=directory,\n",
    "                        stage_positions=stage_positions,\n",
    "                        cur_meas_freq=cur_meas_freq,\n",
    "                        used_channels=used_channels,\n",
    "                        volt_per_chan=volt_per_chan,\n",
    "                        image_freq=image_freq,\n",
    "                        switch_off_after_meas=switch_off_after_meas,\n",
    "                        cam_dir=cam_dir)"
   ]
  },
  {
   "cell_type": "markdown",
   "id": "f3d9c83a-7a21-4cc6-bce1-ce8e3721ee65",
   "metadata": {},
   "source": [
    "### Running Experiment"
   ]
  },
  {
   "cell_type": "code",
   "execution_count": null,
   "id": "ab2fff58-2d6e-4595-8495-f14a5b667d3b",
   "metadata": {},
   "outputs": [],
   "source": [
    "threshold.run_experiment(\"07THz_A_0_V_1490_1370_s2\", variable_channel=[0,1], start_exposure=200, filternum=3)"
   ]
  },
  {
   "cell_type": "code",
   "execution_count": null,
   "id": "20c1cb90-75dc-4846-9bf3-e697b4d08caa",
   "metadata": {},
   "outputs": [],
   "source": [
    "threshold.volt.set_channel_voltage(0,-1500)\n",
    "threshold.volt.set_channel_voltage(1,-1500)"
   ]
  },
  {
   "cell_type": "code",
   "execution_count": null,
   "id": "197e45e9-d5f4-44a2-8cf8-8b38e40806e4",
   "metadata": {},
   "outputs": [],
   "source": [
    "threshold.cam.snapshot.exposure"
   ]
  },
  {
   "cell_type": "code",
   "execution_count": null,
   "id": "bf0df4cb-4ead-4347-a442-75e33ef21764",
   "metadata": {},
   "outputs": [],
   "source": [
    "from PIL import Image\n",
    "\n",
    "threshold.cam.create_snapshot(exposure=100)\n",
    "shot = threshold.cam.TakeSnapshot()\n",
    "# maxpos = np.where(shot == np.max(shot))\n",
    "# shot[maxpos[0][0],maxpos[1][0]] = 0\n",
    "# maxpos = np.where(shot == np.max(shot))\n",
    "# shot[maxpos[0][0],maxpos[1][0]] = 0\n",
    "# maxpos = np.where(shot == np.max(shot))\n",
    "# shot[maxpos[0][0],maxpos[1][0]] = 0\n",
    "# maxpos = np.where(shot == np.max(shot))\n",
    "# shot[maxpos[0][0],maxpos[1][0]] = 0\n",
    "# maxpos = np.where(shot == np.max(shot))\n",
    "# shot[maxpos[0][0],maxpos[1][0]] = 0\n",
    "# maxpos = np.where(shot == np.max(shot))\n",
    "# shot[maxpos[0][0],maxpos[1][0]] = 0\n",
    "print(np.max(shot))\n",
    "im = Image.fromarray(shot)\n",
    "# threshold.cam.SaveImage(shot, \"D:\\\\EmissionEnergy_Data\\\\ThressholdExtraction\\\\images\\\\08THz_A_0_V_1490_1430_s2_3\\\\blocked.png\")\n",
    "im"
   ]
  },
  {
   "cell_type": "code",
   "execution_count": null,
   "id": "0181d83f-831a-451e-9830-088a75f1e273",
   "metadata": {},
   "outputs": [],
   "source": [
    "threshold.stages.move_device(0)"
   ]
  },
  {
   "cell_type": "code",
   "execution_count": null,
   "id": "1fa09d3b-34b5-4e2a-8fe9-78aa5d313e58",
   "metadata": {},
   "outputs": [],
   "source": [
    "print(2721124 % (1456-1))\n",
    "print(2721124 % 1936)\n",
    "# shot.shape"
   ]
  },
  {
   "cell_type": "code",
   "execution_count": null,
   "id": "eae04d9b-0b9f-401b-a1a4-7fb3a3aefcc4",
   "metadata": {},
   "outputs": [],
   "source": [
    "threshold.cam.create_snapshot(exposure=500)"
   ]
  },
  {
   "cell_type": "code",
   "execution_count": null,
   "id": "1ddabede-dd95-426c-997d-59effad11976",
   "metadata": {},
   "outputs": [],
   "source": [
    "threshold.get_max_exposure(exposure_time=20)"
   ]
  },
  {
   "cell_type": "code",
   "execution_count": null,
   "id": "7d94dddd-c840-44aa-9ac3-0100e0cca550",
   "metadata": {},
   "outputs": [],
   "source": [
    "im"
   ]
  },
  {
   "cell_type": "markdown",
   "id": "cee4113f-e600-48e0-8e98-2c7f5d5a610f",
   "metadata": {
    "jp-MarkdownHeadingCollapsed": true,
    "tags": []
   },
   "source": [
    "## 5. Current Monitor"
   ]
  },
  {
   "cell_type": "code",
   "execution_count": null,
   "id": "9985feb0-6d8b-4367-91b7-7a383b0a9f94",
   "metadata": {},
   "outputs": [],
   "source": [
    "from experiments import *\n",
    "import numpy as np\n",
    "positions = [0]"
   ]
  },
  {
   "cell_type": "markdown",
   "id": "1dd483e6-456c-45f6-b1e5-5efe9c1310f9",
   "metadata": {},
   "source": [
    "### Initialize experiment"
   ]
  },
  {
   "cell_type": "code",
   "execution_count": null,
   "id": "cb4a60c8-260c-4606-975e-ff1cb2d99d4f",
   "metadata": {},
   "outputs": [],
   "source": [
    "CurrMon = CurrentMonitor(volt='ws://192.168.1.2:8080')"
   ]
  },
  {
   "cell_type": "markdown",
   "id": "ab35df31-9427-4ff5-8158-5833f6740034",
   "metadata": {},
   "source": [
    "### Setting Parameters"
   ]
  },
  {
   "cell_type": "code",
   "execution_count": null,
   "id": "4991bcd2-c529-4e2a-a0f8-6cfe5b939092",
   "metadata": {},
   "outputs": [],
   "source": [
    "used_channels=[0,1,2,3]\n",
    "volt_per_chan=[-2000,-2000,-1500,2000]\n",
    "CurrMon.set_parameters(used_channels=used_channels,\n",
    "                       volt_per_chan=volt_per_chan)"
   ]
  },
  {
   "cell_type": "markdown",
   "id": "8911dedd-6860-4649-a95f-20925105e0de",
   "metadata": {
    "tags": []
   },
   "source": [
    "### Run Experiment"
   ]
  },
  {
   "cell_type": "code",
   "execution_count": null,
   "id": "cd7be00a-828e-451a-8015-5eab721ae86f",
   "metadata": {},
   "outputs": [],
   "source": [
    "%matplotlib notebook\n",
    "%matplotlib inline\n",
    "%pylab inline\n",
    "import matplotlib\n",
    "matplotlib.use('TkAgg')\n",
    "CurrMon.start(show_seconds=10)"
   ]
  },
  {
   "cell_type": "code",
   "execution_count": null,
   "id": "57edd7cc-175d-4162-80b9-2fdcbc4fdcfc",
   "metadata": {},
   "outputs": [],
   "source": [
    "%matplotlib notebook\n",
    "%matplotlib inline\n",
    "%pylab inline\n",
    "import matplotlib\n",
    "matplotlib.use('TkAgg')\n",
    "from experiments import *\n",
    "cm = CurrentMonitor(volt='ws://192.168.1.2:8080')"
   ]
  },
  {
   "cell_type": "code",
   "execution_count": null,
   "id": "8e0ec592-2bd7-4733-bd24-c6f7a6a4db08",
   "metadata": {},
   "outputs": [],
   "source": [
    "cm.start(show_seconds=10)"
   ]
  },
  {
   "cell_type": "code",
   "execution_count": null,
   "id": "cd860a9d-feac-456c-9b99-98f62941b84b",
   "metadata": {},
   "outputs": [],
   "source": []
  }
 ],
 "metadata": {
  "kernelspec": {
   "display_name": "Python 3",
   "language": "python",
   "name": "python3"
  },
  "language_info": {
   "codemirror_mode": {
    "name": "ipython",
    "version": 3
   },
   "file_extension": ".py",
   "mimetype": "text/x-python",
   "name": "python",
   "nbconvert_exporter": "python",
   "pygments_lexer": "ipython3",
   "version": "3.9.1"
  }
 },
 "nbformat": 4,
 "nbformat_minor": 5
}
